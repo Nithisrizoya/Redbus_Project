{
 "cells": [
  {
   "cell_type": "markdown",
   "metadata": {},
   "source": [
    "FORM FINAL DATAFRAME"
   ]
  },
  {
   "cell_type": "code",
   "execution_count": 28,
   "metadata": {},
   "outputs": [
    {
     "data": {
      "text/html": [
       "<div>\n",
       "<style scoped>\n",
       "    .dataframe tbody tr th:only-of-type {\n",
       "        vertical-align: middle;\n",
       "    }\n",
       "\n",
       "    .dataframe tbody tr th {\n",
       "        vertical-align: top;\n",
       "    }\n",
       "\n",
       "    .dataframe thead th {\n",
       "        text-align: right;\n",
       "    }\n",
       "</style>\n",
       "<table border=\"1\" class=\"dataframe\">\n",
       "  <thead>\n",
       "    <tr style=\"text-align: right;\">\n",
       "      <th></th>\n",
       "      <th>Route_Name</th>\n",
       "      <th>Route_Link</th>\n",
       "      <th>Bus_Name</th>\n",
       "      <th>Bus_Type</th>\n",
       "      <th>Departing_Time</th>\n",
       "      <th>Duration</th>\n",
       "      <th>Reaching_Time</th>\n",
       "      <th>Star_Rating</th>\n",
       "      <th>Price</th>\n",
       "      <th>Seat_Availability</th>\n",
       "    </tr>\n",
       "  </thead>\n",
       "  <tbody>\n",
       "    <tr>\n",
       "      <th>0</th>\n",
       "      <td>Vijayawada to Hyderabad</td>\n",
       "      <td>https://www.redbus.in/bus-tickets/vijayawada-t...</td>\n",
       "      <td>APSRTC - 9316</td>\n",
       "      <td>Super Luxury (Non AC Seater 2+2 Push Back)</td>\n",
       "      <td>20:20</td>\n",
       "      <td>07h 50m</td>\n",
       "      <td>04:10</td>\n",
       "      <td>4.0</td>\n",
       "      <td>INR 469</td>\n",
       "      <td>23 Seats available</td>\n",
       "    </tr>\n",
       "    <tr>\n",
       "      <th>1</th>\n",
       "      <td>Vijayawada to Hyderabad</td>\n",
       "      <td>https://www.redbus.in/bus-tickets/vijayawada-t...</td>\n",
       "      <td>APSRTC - 35189</td>\n",
       "      <td>DOLPHIN CRUISE (VOLVO / SCANIA A.C Multi Axle)</td>\n",
       "      <td>20:30</td>\n",
       "      <td>04h 35m</td>\n",
       "      <td>01:05</td>\n",
       "      <td>3.8</td>\n",
       "      <td>INR 670</td>\n",
       "      <td>15 Seats available</td>\n",
       "    </tr>\n",
       "    <tr>\n",
       "      <th>2</th>\n",
       "      <td>Vijayawada to Hyderabad</td>\n",
       "      <td>https://www.redbus.in/bus-tickets/vijayawada-t...</td>\n",
       "      <td>APSRTC - 4046</td>\n",
       "      <td>Super Luxury (Non AC Seater 2+2 Push Back)</td>\n",
       "      <td>21:00</td>\n",
       "      <td>06h 40m</td>\n",
       "      <td>03:40</td>\n",
       "      <td>4.4</td>\n",
       "      <td>INR 469</td>\n",
       "      <td>16 Seats available</td>\n",
       "    </tr>\n",
       "    <tr>\n",
       "      <th>3</th>\n",
       "      <td>Vijayawada to Hyderabad</td>\n",
       "      <td>https://www.redbus.in/bus-tickets/vijayawada-t...</td>\n",
       "      <td>APSRTC - 9651</td>\n",
       "      <td>Super Luxury (Non AC Seater 2+2 Push Back)</td>\n",
       "      <td>21:00</td>\n",
       "      <td>07h 41m</td>\n",
       "      <td>04:41</td>\n",
       "      <td>4.0</td>\n",
       "      <td>INR 469</td>\n",
       "      <td>23 Seats available</td>\n",
       "    </tr>\n",
       "    <tr>\n",
       "      <th>4</th>\n",
       "      <td>Vijayawada to Hyderabad</td>\n",
       "      <td>https://www.redbus.in/bus-tickets/vijayawada-t...</td>\n",
       "      <td>APSRTC - 9654</td>\n",
       "      <td>Super Luxury (Non AC Seater 2+2 Push Back)</td>\n",
       "      <td>21:40</td>\n",
       "      <td>07h 40m</td>\n",
       "      <td>05:20</td>\n",
       "      <td>3.0</td>\n",
       "      <td>INR 469</td>\n",
       "      <td>31 Seats available</td>\n",
       "    </tr>\n",
       "    <tr>\n",
       "      <th>...</th>\n",
       "      <td>...</td>\n",
       "      <td>...</td>\n",
       "      <td>...</td>\n",
       "      <td>...</td>\n",
       "      <td>...</td>\n",
       "      <td>...</td>\n",
       "      <td>...</td>\n",
       "      <td>...</td>\n",
       "      <td>...</td>\n",
       "      <td>...</td>\n",
       "    </tr>\n",
       "    <tr>\n",
       "      <th>7068</th>\n",
       "      <td>Calangute (goa) to Goa</td>\n",
       "      <td>https://www.redbus.in/bus-tickets/calangute-go...</td>\n",
       "      <td>Kadamba Transport Corporation Limited (KTCL) -...</td>\n",
       "      <td>AC Seater (2+2)</td>\n",
       "      <td>15:30</td>\n",
       "      <td>00h 31m</td>\n",
       "      <td>16:01</td>\n",
       "      <td>3.7</td>\n",
       "      <td>INR 100</td>\n",
       "      <td>41 Seats available</td>\n",
       "    </tr>\n",
       "    <tr>\n",
       "      <th>7069</th>\n",
       "      <td>Calangute (goa) to Panaji</td>\n",
       "      <td>https://www.redbus.in/bus-tickets/calangute-go...</td>\n",
       "      <td>Kadamba Transport Corporation Limited (KTCL) -...</td>\n",
       "      <td>Volvo AC Seater 2+2</td>\n",
       "      <td>13:30</td>\n",
       "      <td>00h 30m</td>\n",
       "      <td>14:00</td>\n",
       "      <td>3.7</td>\n",
       "      <td>INR 100</td>\n",
       "      <td>39 Seats available</td>\n",
       "    </tr>\n",
       "    <tr>\n",
       "      <th>7070</th>\n",
       "      <td>Calangute (goa) to Panaji</td>\n",
       "      <td>https://www.redbus.in/bus-tickets/calangute-go...</td>\n",
       "      <td>Kadamba Transport Corporation Limited (KTCL) -...</td>\n",
       "      <td>AC Seater (2+2)</td>\n",
       "      <td>15:30</td>\n",
       "      <td>00h 30m</td>\n",
       "      <td>16:00</td>\n",
       "      <td>3.7</td>\n",
       "      <td>INR 100</td>\n",
       "      <td>41 Seats available</td>\n",
       "    </tr>\n",
       "    <tr>\n",
       "      <th>7071</th>\n",
       "      <td>Goa Airport to Panaji</td>\n",
       "      <td>https://www.redbus.in/bus-tickets/goa-airport-...</td>\n",
       "      <td>Kadamba Transport Corporation Limited (KTCL) -...</td>\n",
       "      <td>AC Seater (2+2)</td>\n",
       "      <td>13:45</td>\n",
       "      <td>01h 00m</td>\n",
       "      <td>14:45</td>\n",
       "      <td>4.4</td>\n",
       "      <td>INR 150</td>\n",
       "      <td>41 Seats available</td>\n",
       "    </tr>\n",
       "    <tr>\n",
       "      <th>7072</th>\n",
       "      <td>Goa Airport to Panaji</td>\n",
       "      <td>https://www.redbus.in/bus-tickets/goa-airport-...</td>\n",
       "      <td>Kadamba Transport Corporation Limited (KTCL) -...</td>\n",
       "      <td>AC Seater (2+2)</td>\n",
       "      <td>16:00</td>\n",
       "      <td>01h 00m</td>\n",
       "      <td>17:00</td>\n",
       "      <td>4.4</td>\n",
       "      <td>INR 150</td>\n",
       "      <td>39 Seats available</td>\n",
       "    </tr>\n",
       "  </tbody>\n",
       "</table>\n",
       "<p>7073 rows × 10 columns</p>\n",
       "</div>"
      ],
      "text/plain": [
       "                     Route_Name  \\\n",
       "0       Vijayawada to Hyderabad   \n",
       "1       Vijayawada to Hyderabad   \n",
       "2       Vijayawada to Hyderabad   \n",
       "3       Vijayawada to Hyderabad   \n",
       "4       Vijayawada to Hyderabad   \n",
       "...                         ...   \n",
       "7068     Calangute (goa) to Goa   \n",
       "7069  Calangute (goa) to Panaji   \n",
       "7070  Calangute (goa) to Panaji   \n",
       "7071      Goa Airport to Panaji   \n",
       "7072      Goa Airport to Panaji   \n",
       "\n",
       "                                             Route_Link  \\\n",
       "0     https://www.redbus.in/bus-tickets/vijayawada-t...   \n",
       "1     https://www.redbus.in/bus-tickets/vijayawada-t...   \n",
       "2     https://www.redbus.in/bus-tickets/vijayawada-t...   \n",
       "3     https://www.redbus.in/bus-tickets/vijayawada-t...   \n",
       "4     https://www.redbus.in/bus-tickets/vijayawada-t...   \n",
       "...                                                 ...   \n",
       "7068  https://www.redbus.in/bus-tickets/calangute-go...   \n",
       "7069  https://www.redbus.in/bus-tickets/calangute-go...   \n",
       "7070  https://www.redbus.in/bus-tickets/calangute-go...   \n",
       "7071  https://www.redbus.in/bus-tickets/goa-airport-...   \n",
       "7072  https://www.redbus.in/bus-tickets/goa-airport-...   \n",
       "\n",
       "                                               Bus_Name  \\\n",
       "0                                         APSRTC - 9316   \n",
       "1                                        APSRTC - 35189   \n",
       "2                                         APSRTC - 4046   \n",
       "3                                         APSRTC - 9651   \n",
       "4                                         APSRTC - 9654   \n",
       "...                                                 ...   \n",
       "7068  Kadamba Transport Corporation Limited (KTCL) -...   \n",
       "7069  Kadamba Transport Corporation Limited (KTCL) -...   \n",
       "7070  Kadamba Transport Corporation Limited (KTCL) -...   \n",
       "7071  Kadamba Transport Corporation Limited (KTCL) -...   \n",
       "7072  Kadamba Transport Corporation Limited (KTCL) -...   \n",
       "\n",
       "                                            Bus_Type Departing_Time Duration  \\\n",
       "0         Super Luxury (Non AC Seater 2+2 Push Back)          20:20  07h 50m   \n",
       "1     DOLPHIN CRUISE (VOLVO / SCANIA A.C Multi Axle)          20:30  04h 35m   \n",
       "2         Super Luxury (Non AC Seater 2+2 Push Back)          21:00  06h 40m   \n",
       "3         Super Luxury (Non AC Seater 2+2 Push Back)          21:00  07h 41m   \n",
       "4         Super Luxury (Non AC Seater 2+2 Push Back)          21:40  07h 40m   \n",
       "...                                              ...            ...      ...   \n",
       "7068                                 AC Seater (2+2)          15:30  00h 31m   \n",
       "7069                             Volvo AC Seater 2+2          13:30  00h 30m   \n",
       "7070                                 AC Seater (2+2)          15:30  00h 30m   \n",
       "7071                                 AC Seater (2+2)          13:45  01h 00m   \n",
       "7072                                 AC Seater (2+2)          16:00  01h 00m   \n",
       "\n",
       "     Reaching_Time  Star_Rating    Price   Seat_Availability  \n",
       "0            04:10          4.0  INR 469  23 Seats available  \n",
       "1            01:05          3.8  INR 670  15 Seats available  \n",
       "2            03:40          4.4  INR 469  16 Seats available  \n",
       "3            04:41          4.0  INR 469  23 Seats available  \n",
       "4            05:20          3.0  INR 469  31 Seats available  \n",
       "...            ...          ...      ...                 ...  \n",
       "7068         16:01          3.7  INR 100  41 Seats available  \n",
       "7069         14:00          3.7  INR 100  39 Seats available  \n",
       "7070         16:00          3.7  INR 100  41 Seats available  \n",
       "7071         14:45          4.4  INR 150  41 Seats available  \n",
       "7072         17:00          4.4  INR 150  39 Seats available  \n",
       "\n",
       "[7073 rows x 10 columns]"
      ]
     },
     "execution_count": 28,
     "metadata": {},
     "output_type": "execute_result"
    }
   ],
   "source": [
    "import pandas as pd\n",
    "import mysql.connector\n",
    "import numpy as np\n",
    "\n",
    "#csv file to dataframe\n",
    "\n",
    "df_andhrapradesh = pd.read_csv(\"ap_bus_details.csv\")\n",
    "df_assam = pd.read_csv(\"assam_bus_details.csv\")\n",
    "df_chandigarh = pd.read_csv(\"chandigarh_bus_details.csv\")\n",
    "df_himachal = pd.read_csv(\"himachal_bus_details.csv\")\n",
    "df_kerala = pd.read_csv(\"kerala_bus_details.csv\")\n",
    "df_rajasthan = pd.read_csv(\"rajasthan_bus_details.csv\")\n",
    "df_southbengal = pd.read_csv(\"sb_bus_details.csv\")\n",
    "df_telengana = pd.read_csv(\"Telangana_bus_details.csv\")\n",
    "df_uttarpradesh = pd.read_csv(\"up_bus_details.csv\")\n",
    "df_westbengal = pd.read_csv(\"wb_bus_details.csv\")\n",
    "df_jammukashmir = pd.read_csv(\"jk_bus_details.csv\")\n",
    "df = pd.read_csv(\"kadamba_bus_details.csv\")\n",
    "\n",
    "final_df=pd.concat([df_andhrapradesh,df_assam,df_himachal,df_kerala,df_rajasthan,df_southbengal,df_telengana,df_uttarpradesh,df_westbengal,df_jammukashmir,df],ignore_index=True)\n",
    "final_df"
   ]
  },
  {
   "cell_type": "markdown",
   "metadata": {},
   "source": [
    "DATA CLEANING"
   ]
  },
  {
   "cell_type": "code",
   "execution_count": 29,
   "metadata": {},
   "outputs": [
    {
     "name": "stdout",
     "output_type": "stream",
     "text": [
      "<class 'pandas.core.frame.DataFrame'>\n",
      "RangeIndex: 7073 entries, 0 to 7072\n",
      "Data columns (total 10 columns):\n",
      " #   Column             Non-Null Count  Dtype  \n",
      "---  ------             --------------  -----  \n",
      " 0   Route_Name         7073 non-null   object \n",
      " 1   Route_Link         7073 non-null   object \n",
      " 2   Bus_Name           7073 non-null   object \n",
      " 3   Bus_Type           7073 non-null   object \n",
      " 4   Departing_Time     7073 non-null   object \n",
      " 5   Duration           7073 non-null   object \n",
      " 6   Reaching_Time      7073 non-null   object \n",
      " 7   Star_Rating        7073 non-null   float64\n",
      " 8   Price              7073 non-null   object \n",
      " 9   Seat_Availability  7073 non-null   object \n",
      "dtypes: float64(1), object(9)\n",
      "memory usage: 552.7+ KB\n"
     ]
    }
   ],
   "source": [
    "final_df.info()"
   ]
  },
  {
   "cell_type": "code",
   "execution_count": 30,
   "metadata": {},
   "outputs": [
    {
     "data": {
      "text/plain": [
       "0       469.0\n",
       "1       670.0\n",
       "2       469.0\n",
       "3       469.0\n",
       "4       469.0\n",
       "        ...  \n",
       "7068    100.0\n",
       "7069    100.0\n",
       "7070    100.0\n",
       "7071    150.0\n",
       "7072    150.0\n",
       "Name: Price, Length: 7073, dtype: float64"
      ]
     },
     "execution_count": 30,
     "metadata": {},
     "output_type": "execute_result"
    }
   ],
   "source": [
    "#convert prices to numeric\n",
    "final_df[\"Price\"]=final_df[\"Price\"].str.replace(\"INR\",\"\")\n",
    "final_df[\"Price\"]=final_df[\"Price\"].astype(float)\n",
    "final_df[\"Price\"].fillna(0) "
   ]
  },
  {
   "cell_type": "code",
   "execution_count": 31,
   "metadata": {},
   "outputs": [
    {
     "name": "stderr",
     "output_type": "stream",
     "text": [
      "C:\\Users\\Admin\\AppData\\Local\\Temp\\ipykernel_5104\\1291482991.py:13: FutureWarning: A value is trying to be set on a copy of a DataFrame or Series through chained assignment using an inplace method.\n",
      "The behavior will change in pandas 3.0. This inplace method will never work because the intermediate object on which we are setting values always behaves as a copy.\n",
      "\n",
      "For example, when doing 'df[col].method(value, inplace=True)', try using 'df.method({col: value}, inplace=True)' or df[col] = df[col].method(value) instead, to perform the operation inplace on the original object.\n",
      "\n",
      "\n",
      "  final_df[\"Star_Rating\"].fillna(0, inplace=True)\n"
     ]
    }
   ],
   "source": [
    "# Convert the 'Star_Rating' column to strings\n",
    "final_df[\"Star_Rating\"] = final_df[\"Star_Rating\"].astype(str)\n",
    "\n",
    "# Now perform the operations\n",
    "final_df[\"Star_Rating\"] = final_df[\"Star_Rating\"].str.replace(\"New\", \"\")\n",
    "final_df[\"Star_Rating\"] = final_df[\"Star_Rating\"].str.strip()\n",
    "final_df[\"Star_Rating\"] = final_df[\"Star_Rating\"].str.split().str[0]\n",
    "\n",
    "# Convert the cleaned string ratings to numeric values\n",
    "final_df[\"Star_Rating\"] = pd.to_numeric(final_df[\"Star_Rating\"], errors='coerce')\n",
    "\n",
    "# Fill any NaN values with 0\n",
    "final_df[\"Star_Rating\"].fillna(0, inplace=True)\n"
   ]
  },
  {
   "cell_type": "code",
   "execution_count": 32,
   "metadata": {},
   "outputs": [
    {
     "name": "stdout",
     "output_type": "stream",
     "text": [
      "<class 'pandas.core.frame.DataFrame'>\n",
      "RangeIndex: 7073 entries, 0 to 7072\n",
      "Data columns (total 10 columns):\n",
      " #   Column             Non-Null Count  Dtype  \n",
      "---  ------             --------------  -----  \n",
      " 0   Route_Name         7073 non-null   object \n",
      " 1   Route_Link         7073 non-null   object \n",
      " 2   Bus_Name           7073 non-null   object \n",
      " 3   Bus_Type           7073 non-null   object \n",
      " 4   Departing_Time     7073 non-null   object \n",
      " 5   Duration           7073 non-null   object \n",
      " 6   Reaching_Time      7073 non-null   object \n",
      " 7   Star_Rating        7073 non-null   float64\n",
      " 8   Price              7073 non-null   float64\n",
      " 9   Seat_Availability  7073 non-null   object \n",
      "dtypes: float64(2), object(8)\n",
      "memory usage: 552.7+ KB\n"
     ]
    }
   ],
   "source": [
    "# info after the data type change\n",
    "final_df.info()"
   ]
  },
  {
   "cell_type": "code",
   "execution_count": 33,
   "metadata": {},
   "outputs": [],
   "source": [
    "final_df = final_df[final_df[\"Price\"] <= 7000]"
   ]
  },
  {
   "cell_type": "code",
   "execution_count": 34,
   "metadata": {},
   "outputs": [],
   "source": [
    "# replacing the nan value\n",
    "final_df = final_df.replace({np.nan: None})"
   ]
  },
  {
   "cell_type": "code",
   "execution_count": 35,
   "metadata": {},
   "outputs": [],
   "source": [
    "# Convert the DataFrame to a CSV file\n",
    "final_df.to_csv(\"final_df.csv\", index=False)"
   ]
  },
  {
   "cell_type": "markdown",
   "metadata": {},
   "source": [
    "CREATE THE SQL DATABASE"
   ]
  },
  {
   "cell_type": "code",
   "execution_count": 36,
   "metadata": {},
   "outputs": [
    {
     "name": "stdout",
     "output_type": "stream",
     "text": [
      "<mysql.connector.connection_cext.CMySQLConnection object at 0x0000023658ABF8C0>\n"
     ]
    }
   ],
   "source": [
    "import mysql.connector\n",
    "\n",
    "\n",
    "mydb = mysql.connector.connect(\n",
    " host=\"localhost\",\n",
    " user=\"root\",\n",
    " password=\"\",\n",
    "\n",
    "\n",
    ")\n",
    "\n",
    "\n",
    "print(mydb)\n",
    "mycursor = mydb.cursor(buffered=True)"
   ]
  },
  {
   "cell_type": "code",
   "execution_count": 37,
   "metadata": {},
   "outputs": [],
   "source": [
    "mycursor.execute(\"CREATE DATABASE IF NOT EXISTS RED_BUS_DETAILS\")"
   ]
  },
  {
   "cell_type": "code",
   "execution_count": 41,
   "metadata": {},
   "outputs": [
    {
     "name": "stdout",
     "output_type": "stream",
     "text": [
      "Table Created successfully\n"
     ]
    }
   ],
   "source": [
    "# Table Creation\n",
    "mycursor.execute('''CREATE TABLE IF NOT EXISTS RED_BUS_DETAILS.bus_details(\n",
    "                  ID INT AUTO_INCREMENT PRIMARY KEY,\n",
    "                  Route_Name VARCHAR(255) NULL,\n",
    "                  Route_Link VARCHAR(255) NULL,\n",
    "                  Bus_Name VARCHAR(255) NOT NULL,\n",
    "                  Bus_Type VARCHAR(255) NOT NULL,\n",
    "                  Departing_Time VARCHAR(255) NOT NULL,\n",
    "                  Reaching_Time VARCHAR(255) NOT NULL,\n",
    "                  Duration VARCHAR(255) NOT NULL,\n",
    "                  Price FLOAT NULL,\n",
    "                  Seats_Available VARCHAR(255) NOT NULL,\n",
    "                  Star_Rating FLOAT NULL\n",
    "                  )''')\n",
    "print(\"Table Created successfully\")\n"
   ]
  },
  {
   "cell_type": "code",
   "execution_count": 39,
   "metadata": {},
   "outputs": [
    {
     "name": "stdout",
     "output_type": "stream",
     "text": [
      "Values inserted successfully in batches\n"
     ]
    }
   ],
   "source": [
    "# SQL query to insert data into bus_details table\n",
    "insert_query = '''INSERT INTO RED_BUS_DETAILS.bus_details(\n",
    "                    Route_Name,\n",
    "                    Route_Link,\n",
    "                    Bus_Name,\n",
    "                    Bus_Type,\n",
    "                    Departing_Time,\n",
    "                    Reaching_Time,\n",
    "                    Duration,\n",
    "                    Price,\n",
    "                    Seats_Available,\n",
    "                    Star_Rating)\n",
    "                  VALUES(%s, %s, %s, %s, %s, %s, %s, %s, %s, %s)'''\n",
    "\n",
    "data = final_df.values.tolist()\n",
    "# Set batch size to a smaller number\n",
    "batch_size = 200  # Adjust as needed\n",
    "\n",
    "for i in range(0, len(data), batch_size):\n",
    "    batch_data = data[i:i + batch_size]\n",
    "    try:\n",
    "        mycursor.executemany(insert_query, batch_data)\n",
    "        mydb.commit()\n",
    "    except Exception as e:\n",
    "        print(f\"Error: {e}\")\n",
    "        mydb.rollback()\n",
    "\n",
    "print(\"Values inserted successfully in batches\")"
   ]
  },
  {
   "cell_type": "code",
   "execution_count": null,
   "metadata": {},
   "outputs": [],
   "source": []
  }
 ],
 "metadata": {
  "kernelspec": {
   "display_name": "Python 3",
   "language": "python",
   "name": "python3"
  },
  "language_info": {
   "codemirror_mode": {
    "name": "ipython",
    "version": 3
   },
   "file_extension": ".py",
   "mimetype": "text/x-python",
   "name": "python",
   "nbconvert_exporter": "python",
   "pygments_lexer": "ipython3",
   "version": "3.12.4"
  }
 },
 "nbformat": 4,
 "nbformat_minor": 2
}
